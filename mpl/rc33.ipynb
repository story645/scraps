{
 "cells": [
  {
   "cell_type": "code",
   "execution_count": 2,
   "metadata": {},
   "outputs": [],
   "source": [
    "%matplotlib widget"
   ]
  },
  {
   "cell_type": "code",
   "execution_count": 3,
   "metadata": {},
   "outputs": [
    {
     "name": "stdout",
     "output_type": "stream",
     "text": [
      "3.3.0rc1\n"
     ]
    }
   ],
   "source": [
    "import matplotlib\n",
    "print(matplotlib.__version__)\n",
    "import matplotlib.pyplot as plt\n",
    "import numpy as np"
   ]
  },
  {
   "cell_type": "code",
   "execution_count": 4,
   "metadata": {},
   "outputs": [
    {
     "data": {
      "application/vnd.jupyter.widget-view+json": {
       "model_id": "27a5ea6de6014ce5a04d277d1e3cc43a",
       "version_major": 2,
       "version_minor": 0
      },
      "text/plain": [
       "Canvas(toolbar=Toolbar(toolitems=[('Home', 'Reset original view', 'home', 'home'), ('Back', 'Back to previous …"
      ]
     },
     "metadata": {},
     "output_type": "display_data"
    }
   ],
   "source": [
    "x = np.random.randint(0, 100,size=100)\n",
    "y = np.random.randint(-100, 0, size=100)\n",
    "c = np.random.randint(-50, 50, size=100)\n",
    "\n",
    "\n",
    "fig, axd = plt.subplot_mosaic([[\"histx\", \".\"],[\"scat\", \"histy\"]], \n",
    "                                 gridspec_kw={'width_ratios': [7,2], 'height_ratios':[2,7]},\n",
    "                                 constrained_layout=True)\n",
    "im = axd['scat'].scatter(x,y, c=c, cmap='RdBu')\n",
    "fig.colorbar(im, ax=axd['scat'], orientation='horizontal')\n",
    "axd['histx'].hist(x)\n",
    "axd['histy'].hist(y, orientation='horizontal')\n",
    "\n",
    "axd['histx'].sharex(axd['scat'])\n",
    "axd['histy'].sharey(axd['scat'])\n"
   ]
  },
  {
   "cell_type": "code",
   "execution_count": 11,
   "metadata": {},
   "outputs": [
    {
     "data": {
      "application/vnd.jupyter.widget-view+json": {
       "model_id": "29365af6ae4043b9a16cd5c1f41477dd",
       "version_major": 2,
       "version_minor": 0
      },
      "text/plain": [
       "Canvas(toolbar=Toolbar(toolitems=[('Home', 'Reset original view', 'home', 'home'), ('Back', 'Back to previous …"
      ]
     },
     "metadata": {},
     "output_type": "display_data"
    },
    {
     "data": {
      "text/plain": [
       "1"
      ]
     },
     "execution_count": 11,
     "metadata": {},
     "output_type": "execute_result"
    }
   ],
   "source": [
    "x = np.random.randint(0, 100,size=100)\n",
    "y = np.random.randint(-100, 0, size=100)\n",
    "c = np.random.randint(-50, 50, size=100)\n",
    "\n",
    "\n",
    "fig, axd = plt.subplot_mosaic([[\"histx\", \".\"],[\"scat\", \"histy\"]], \n",
    "                                 gridspec_kw={'width_ratios': [7,2], 'height_ratios':[2,7]},\n",
    "                                 constrained_layout=True)\n",
    "\n",
    "im = axd['scat'].scatter(x,y, c=c, cmap='RdBu', picker=True)\n",
    "fig.colorbar(im, ax=axd['scat'], orientation='horizontal')\n",
    "\n",
    "_, _,  patchesx = axd['histx'].hist(x)\n",
    "_, _, patchesy = axd['histy'].hist(y, orientation='horizontal')\n",
    "\n",
    "axd['histx'].sharex(axd['scat'])\n",
    "axd['histy'].sharey(axd['scat'])\n",
    "\n",
    "\n",
    "def on_xlims_change(axes):\n",
    "    start, end = axes.get_xlim()\n",
    "    dx = x[(start<=x) & (x<=end)]\n",
    "    _, _, patchesx = axd['histx'].hist(dx)\n",
    "    axd['histx'].set_xlim([start,end])\n",
    "    return [patchesx]\n",
    "\n",
    "def on_ylims_change(axes):\n",
    "    start, end = axes.get_ylim()\n",
    "    dy = y[(start<=y) & (y<=end)]\n",
    "    _, _, patchesy = axd['histy'].hist(dy, orientation='horizontal')\n",
    "    axd['histy'].set_ylim([start,end])\n",
    "    return [patchesy]\n",
    "\n",
    "axd['scat'].callbacks.connect('xlim_changed', on_xlims_change)\n",
    "axd['scat'].callbacks.connect('ylim_changed', on_ylims_change)\n"
   ]
  },
  {
   "cell_type": "code",
   "execution_count": null,
   "metadata": {},
   "outputs": [],
   "source": []
  }
 ],
 "metadata": {
  "kernelspec": {
   "display_name": "Python 3.7.4 64-bit ('mplrelease': conda)",
   "language": "python",
   "name": "python37464bitmplreleaseconda953a5d05f1cf4d5db783b13a33a22e5d"
  },
  "language_info": {
   "codemirror_mode": {
    "name": "ipython",
    "version": 3
   },
   "file_extension": ".py",
   "mimetype": "text/x-python",
   "name": "python",
   "nbconvert_exporter": "python",
   "pygments_lexer": "ipython3",
   "version": "3.8.3"
  }
 },
 "nbformat": 4,
 "nbformat_minor": 4
}
